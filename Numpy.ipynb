{
 "cells": [
  {
   "cell_type": "code",
   "execution_count": 2,
   "metadata": {},
   "outputs": [],
   "source": [
    "import numpy as np"
   ]
  },
  {
   "cell_type": "code",
   "execution_count": null,
   "metadata": {},
   "outputs": [
    {
     "name": "stdout",
     "output_type": "stream",
     "text": [
      "[1 2 3 4 5]\n",
      "<class 'numpy.ndarray'>\n",
      "int32\n",
      "(5,)\n",
      "5\n",
      "1\n",
      "4\n",
      "<memory at 0x00000266D5DEAEC0>\n",
      "(4,)\n",
      "  C_CONTIGUOUS : True\n",
      "  F_CONTIGUOUS : True\n",
      "  OWNDATA : True\n",
      "  WRITEABLE : True\n",
      "  ALIGNED : True\n",
      "  WRITEBACKIFCOPY : False\n",
      "\n",
      "20\n",
      "None\n",
      "<numpy.core._internal._ctypes object at 0x00000266D5D1EB70>\n"
     ]
    }
   ],
   "source": [
    "# Create a 1D array, apply some properties and methods to it\n",
    "arr = np.array([1, 2, 3, 4, 5],ndmin=1)\n",
    "print(arr)\n",
    "print(type(arr))\n",
    "print(arr.dtype)\n",
    "print(arr.shape)\n",
    "print(arr.size)\n",
    "print(arr.ndim)\n",
    "print(arr.itemsize)\n",
    "print(arr.data)\n",
    "print(arr.strides)\n",
    "print(arr.flags)\n",
    "print(arr.nbytes)\n",
    "print(arr.base)\n",
    "print(arr.ctypes)"
   ]
  },
  {
   "cell_type": "code",
   "execution_count": 17,
   "metadata": {},
   "outputs": [
    {
     "name": "stdout",
     "output_type": "stream",
     "text": [
      "[[1 2 3]\n",
      " [4 5 6]]\n",
      "(2, 3)\n",
      "(12, 4)\n",
      "int32\n"
     ]
    }
   ],
   "source": [
    "arr2d = np.array([[1,2,3],[4,5,6]])\n",
    "print(arr2d)\n",
    "print(arr2d.shape)\n",
    "print(arr2d.strides)\n",
    "print(arr2d.dtype)"
   ]
  },
  {
   "cell_type": "code",
   "execution_count": 24,
   "metadata": {},
   "outputs": [
    {
     "name": "stdout",
     "output_type": "stream",
     "text": [
      "[(10,) (20,) (30,)]\n",
      "[10 20 30]\n",
      "<class 'numpy.void'>\n"
     ]
    }
   ],
   "source": [
    "dt = np.dtype([('aget',np.int8)])\n",
    "arr3 = np.array([(10,),(20,),(30,)],dtype=dt)\n",
    "print(arr3)\n",
    "print(arr3['aget'])\n",
    "print(dt.type)"
   ]
  },
  {
   "cell_type": "code",
   "execution_count": null,
   "metadata": {},
   "outputs": [
    {
     "name": "stdout",
     "output_type": "stream",
     "text": [
      "[10 20 30 40 50]\n",
      "int32\n",
      "[10. 20. 30. 40. 50.]\n",
      "float16\n"
     ]
    }
   ],
   "source": [
    "# in the example blow, convert the data type of the array from int to float\n",
    "real_data = np.array([10,20,30,40,50], dtype=np.int32)\n",
    "print(real_data)\n",
    "print(real_data.dtype)\n",
    "\n",
    "cast_data = real_data.astype(np.float16)\n",
    "print(cast_data)\n",
    "print(cast_data.dtype)"
   ]
  },
  {
   "cell_type": "code",
   "execution_count": null,
   "metadata": {},
   "outputs": [
    {
     "name": "stdout",
     "output_type": "stream",
     "text": [
      "[10.1 20.2 30.3 40.4 50.5]\n",
      "float16\n",
      "[10 20 30 40 50]\n",
      "int8\n"
     ]
    }
   ],
   "source": [
    "# in the example below, convert the data type of the array from float to int\n",
    "float_data = np.array([10.1,20.2,30.3,40.4,50.5], dtype=np.float16)\n",
    "print(float_data)\n",
    "print(float_data.dtype)\n",
    "\n",
    "int_data = np.int8(float_data)\n",
    "print(int_data)\n",
    "print(int_data.dtype)"
   ]
  },
  {
   "cell_type": "code",
   "execution_count": 35,
   "metadata": {},
   "outputs": [
    {
     "name": "stdout",
     "output_type": "stream",
     "text": [
      "['2.2' '78.5' 'three' 'four' '111']\n",
      "<U5\n",
      "[  2.2  78.5   nan   nan 111. ]\n",
      "float64\n"
     ]
    }
   ],
   "source": [
    "# in the example below, convert the data type of the array from string to int\n",
    "string_data = np.array(['2.2','78.5','three','four','111'])\n",
    "print(string_data)\n",
    "print(string_data.dtype)\n",
    "\n",
    "def string_to_nan(data):\n",
    "    result = []\n",
    "    for item in data:\n",
    "        try:\n",
    "            result.append(float(item))\n",
    "        except:\n",
    "            result.append(np.nan)\n",
    "    return np.array(result)\n",
    "\n",
    "string_to_float = string_to_nan(string_data)\n",
    "print(string_to_float)\n",
    "print(string_to_float.dtype)      "
   ]
  },
  {
   "cell_type": "code",
   "execution_count": null,
   "metadata": {},
   "outputs": [
    {
     "name": "stdout",
     "output_type": "stream",
     "text": [
      "[[0. 0. 0. 0.]\n",
      " [0. 0. 0. 0.]\n",
      " [0. 0. 0. 0.]\n",
      " [0. 0. 0. 0.]\n",
      " [0. 0. 0. 0.]]\n"
     ]
    }
   ],
   "source": [
    "#generate a 2D array with random values\n",
    "zeros_arr = np.zeros([5,4])\n",
    "print(zeros_arr)"
   ]
  },
  {
   "cell_type": "code",
   "execution_count": null,
   "metadata": {},
   "outputs": [
    {
     "name": "stdout",
     "output_type": "stream",
     "text": [
      "[[1. 1. 1. 1.]\n",
      " [1. 1. 1. 1.]\n",
      " [1. 1. 1. 1.]\n",
      " [1. 1. 1. 1.]\n",
      " [1. 1. 1. 1.]]\n",
      "float16\n"
     ]
    }
   ],
   "source": [
    "# generate a 2D array with ones\n",
    "ones_arr = np.ones((5,4),dtype=np.float16, order='F')\n",
    "print(ones_arr)\n",
    "print(ones_arr.dtype)  "
   ]
  },
  {
   "cell_type": "code",
   "execution_count": null,
   "metadata": {},
   "outputs": [
    {
     "name": "stdout",
     "output_type": "stream",
     "text": [
      "[ 1  2  3  4  5  6  7  8  9 10]\n"
     ]
    }
   ],
   "source": [
    "# arange() function is used to generate a sequence of numbers\n",
    "list1 = np.arange(1,11)\n",
    "print(list1)"
   ]
  },
  {
   "cell_type": "code",
   "execution_count": 54,
   "metadata": {},
   "outputs": [
    {
     "name": "stdout",
     "output_type": "stream",
     "text": [
      "[1.         1.11111111 1.22222222 1.33333333 1.44444444 1.55555556\n",
      " 1.66666667 1.77777778 1.88888889 2.        ]\n",
      "Step size:  0.1111111111111111\n"
     ]
    }
   ],
   "source": [
    "squence_num, step = np.linspace(1,2, num=10, endpoint=True, retstep=True)\n",
    "print(squence_num)\n",
    "print(\"Step size: \", step)"
   ]
  },
  {
   "cell_type": "code",
   "execution_count": null,
   "metadata": {},
   "outputs": [
    {
     "name": "stdout",
     "output_type": "stream",
     "text": [
      "[[0.21777244 0.16762774 0.38300416]\n",
      " [0.40452458 0.43298339 0.90552592]]\n"
     ]
    }
   ],
   "source": [
    "# generate a random 2D array   \n",
    "random_arr = np.random.rand(2,3)\n",
    "print(random_arr)"
   ]
  },
  {
   "cell_type": "code",
   "execution_count": null,
   "metadata": {},
   "outputs": [
    {
     "name": "stdout",
     "output_type": "stream",
     "text": [
      "[[0.21777244 0.16762774 0.38300416]\n",
      " [0.40452458 0.43298339 0.90552592]]\n"
     ]
    }
   ],
   "source": [
    "# generate an empty 2D array\n",
    "empty_arr = np.empty((2,3))\n",
    "print(empty_arr)    "
   ]
  },
  {
   "cell_type": "code",
   "execution_count": null,
   "metadata": {},
   "outputs": [
    {
     "name": "stdout",
     "output_type": "stream",
     "text": [
      "[[7 7 7]\n",
      " [7 7 7]\n",
      " [7 7 7]]\n"
     ]
    }
   ],
   "source": [
    "# generate a full 2D array\n",
    "full_arr = np.full((3,3),7)\n",
    "print(full_arr)"
   ]
  },
  {
   "cell_type": "markdown",
   "metadata": {},
   "source": [
    "# Array manipulation functions"
   ]
  },
  {
   "cell_type": "markdown",
   "metadata": {},
   "source": [
    "Changing shape"
   ]
  },
  {
   "cell_type": "code",
   "execution_count": null,
   "metadata": {},
   "outputs": [
    {
     "name": "stdout",
     "output_type": "stream",
     "text": [
      "[0 1 2 3 4 5 6 7]\n",
      "[[0 1]\n",
      " [2 3]\n",
      " [4 5]\n",
      " [6 7]]\n",
      "[[0 1 2 3]\n",
      " [4 5 6 7]]\n"
     ]
    }
   ],
   "source": [
    "# reshape() function is used to change the shape of the array\n",
    "arr = np.arange(8)\n",
    "print(arr)\n",
    "\n",
    "# reshape the array\n",
    "arr_reshaped = arr.reshape(4,2)\n",
    "print(arr_reshaped)\n",
    "\n",
    "# one another way to reshape the array\n",
    "arr_reshaped2 = np.reshape(arr,(2,4))\n",
    "print(arr_reshaped2)"
   ]
  },
  {
   "cell_type": "code",
   "execution_count": 75,
   "metadata": {},
   "outputs": [
    {
     "name": "stdout",
     "output_type": "stream",
     "text": [
      "[[1 2 3]\n",
      " [4 5 6]]\n",
      "1 2 3 4 5 6 \n",
      "[[ 2  4  6]\n",
      " [ 8 10 12]]\n"
     ]
    }
   ],
   "source": [
    "arr2d = np.array([[1,2,3],[4,5,6]])\n",
    "print(arr2d)\n",
    "\n",
    "\n",
    "# flatten() function is used to convert a 2D array into 1D array\n",
    "for item in arr2d.flat:\n",
    "    print(item, end=' ')\n",
    "print()\n",
    "for index, value in enumerate(arr2d.flat): \n",
    "    arr2d.flat[index] = value * 2 # multiply each element by 2\n",
    "print(arr2d)"
   ]
  },
  {
   "cell_type": "code",
   "execution_count": null,
   "metadata": {},
   "outputs": [
    {
     "name": "stdout",
     "output_type": "stream",
     "text": [
      "Original array:  [[1 2 3]\n",
      " [4 5 6]]\n",
      "Flattened array:  [1 4 2 5 3 6]\n"
     ]
    }
   ],
   "source": [
    "arr2d = np.array([[1,2,3],[4,5,6]])\n",
    "print(\"Original array: \", arr2d)\n",
    "\n",
    "# flatten the array\n",
    "flattened_arr = arr2d.flatten(order='F')\n",
    "print(\"Flattened array: \", flattened_arr)"
   ]
  },
  {
   "cell_type": "code",
   "execution_count": 84,
   "metadata": {},
   "outputs": [
    {
     "name": "stdout",
     "output_type": "stream",
     "text": [
      "Original array:  [[1 2 3]\n",
      " [4 5 6]]\n",
      "Flattened array:  [1 2 3 4 5 6]\n"
     ]
    }
   ],
   "source": [
    "arr2d = np.array([[1,2,3],[4,5,6]])\n",
    "print(\"Original array: \", arr2d)\n",
    "\n",
    "flattened_array = np.ravel(arr2d)\n",
    "print(\"Flattened array: \", flattened_array)"
   ]
  },
  {
   "cell_type": "markdown",
   "metadata": {},
   "source": [
    "Transpose Operations"
   ]
  },
  {
   "cell_type": "code",
   "execution_count": 89,
   "metadata": {},
   "outputs": [
    {
     "name": "stdout",
     "output_type": "stream",
     "text": [
      "Original array: \n",
      "[[1 2 3]\n",
      " [4 5 6]]\n",
      "Transposed array: \n",
      "[[1 4]\n",
      " [2 5]\n",
      " [3 6]]\n",
      "Another way to transpose the array: \n",
      "[[1 4]\n",
      " [2 5]\n",
      " [3 6]]\n"
     ]
    }
   ],
   "source": [
    "arr = np.array([[1,2,3],[4,5,6]])\n",
    "print(\"Original array: \")\n",
    "print(arr)\n",
    "\n",
    "# transpose the array\n",
    "transposed_arr = np.transpose(arr)\n",
    "print(\"Transposed array: \")\n",
    "print(transposed_arr)\n",
    "\n",
    "# another way to transpose the array\n",
    "transposed_arr2 = arr.T\n",
    "print(\"Another way to transpose the array: \")\n",
    "print(transposed_arr2)"
   ]
  },
  {
   "cell_type": "code",
   "execution_count": null,
   "metadata": {},
   "outputs": [
    {
     "name": "stdout",
     "output_type": "stream",
     "text": [
      "[[[ 0  1  2  3]\n",
      "  [ 4  5  6  7]\n",
      "  [ 8  9 10 11]]\n",
      "\n",
      " [[12 13 14 15]\n",
      "  [16 17 18 19]\n",
      "  [20 21 22 23]]]\n",
      "[[[ 0  4  8]\n",
      "  [12 16 20]]\n",
      "\n",
      " [[ 1  5  9]\n",
      "  [13 17 21]]\n",
      "\n",
      " [[ 2  6 10]\n",
      "  [14 18 22]]\n",
      "\n",
      " [[ 3  7 11]\n",
      "  [15 19 23]]]\n"
     ]
    }
   ],
   "source": [
    "a = np.arange(24).reshape(2,3,4)\n",
    "print(a)\n",
    "\n",
    "# rollaxis() function is used to roll the specified axis backwards\n",
    "result = np.rollaxis(a,2,0)\n",
    "print(result)"
   ]
  },
  {
   "cell_type": "markdown",
   "metadata": {},
   "source": [
    "Changing Dimensions"
   ]
  },
  {
   "cell_type": "code",
   "execution_count": 102,
   "metadata": {},
   "outputs": [
    {
     "name": "stdout",
     "output_type": "stream",
     "text": [
      "(3, 3)\n",
      "(1,10)\n",
      "(2,10)\n",
      "(3,10)\n",
      "(1,20)\n",
      "(2,20)\n",
      "(3,20)\n",
      "(1,30)\n",
      "(2,30)\n",
      "(3,30)\n"
     ]
    }
   ],
   "source": [
    "arr1 = np.array([1,2,3])\n",
    "arr2 = np.array([[10],[20],[30]])\n",
    "broadcasted_arr = np.broadcast(arr1,arr2)\n",
    "print(broadcasted_arr.shape)\n",
    "for x,y in broadcasted_arr:\n",
    "    print(f\"({x},{y})\")"
   ]
  }
 ],
 "metadata": {
  "kernelspec": {
   "display_name": "Python 3",
   "language": "python",
   "name": "python3"
  },
  "language_info": {
   "codemirror_mode": {
    "name": "ipython",
    "version": 3
   },
   "file_extension": ".py",
   "mimetype": "text/x-python",
   "name": "python",
   "nbconvert_exporter": "python",
   "pygments_lexer": "ipython3",
   "version": "3.12.6"
  }
 },
 "nbformat": 4,
 "nbformat_minor": 2
}
