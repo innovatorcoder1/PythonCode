{
 "cells": [
  {
   "cell_type": "code",
   "execution_count": 20,
   "metadata": {},
   "outputs": [
    {
     "name": "stdout",
     "output_type": "stream",
     "text": [
      "Ibrahim\n",
      " Muhammad Ibrahim \n",
      "18\n",
      " MUHAMMAD IBRAHIM \n",
      " muhammad ibrahim \n",
      "Muhammad Ibrahim\n"
     ]
    }
   ],
   "source": [
    "name = 'ibrahim'\n",
    "name = 'I' + name[1:]\n",
    "print(name)\n",
    "name = name.replace(name, \" Muhammad Ibrahim \")\n",
    "print(name)\n",
    "print(len(name))\n",
    "print(name.upper())\n",
    "print(name.lower())\n",
    "print(name.strip())"
   ]
  },
  {
   "cell_type": "code",
   "execution_count": null,
   "metadata": {},
   "outputs": [
    {
     "name": "stdout",
     "output_type": "stream",
     "text": [
      "Muhammad Ibrahim \n",
      "Muhammad Ibrahim Muhammad Ibrahim Muhammad Ibrahim \n"
     ]
    }
   ],
   "source": [
    "# concatenation and repetition\n",
    "first_name = \"Muhammad\"\n",
    "last_name = \"Ibrahim \"\n",
    "full_name = first_name + \" \" + last_name\n",
    "print(full_name)\n",
    "print(full_name * 3)"
   ]
  },
  {
   "cell_type": "code",
   "execution_count": null,
   "metadata": {},
   "outputs": [
    {
     "name": "stdout",
     "output_type": "stream",
     "text": [
      "My name is ibrahim. I am 26 years old. \n"
     ]
    }
   ],
   "source": [
    "# f-string\n",
    "name = \"ibrahim\"\n",
    "age = 26\n",
    "print(f\"My name is {name}. I am {age} years old. \")"
   ]
  },
  {
   "cell_type": "code",
   "execution_count": null,
   "metadata": {},
   "outputs": [
    {
     "name": "stdout",
     "output_type": "stream",
     "text": [
      "My name is ibrahim. I am 26 years old.\n",
      "My name is 26. I am ibrahim years old.\n"
     ]
    }
   ],
   "source": [
    "# format method\n",
    "print(\"My name is {0}. I am {1} years old.\".format(\"ibrahim\", 26))\n",
    "print(\"My name is {1}. I am {0} years old.\".format(\"ibrahim\", 26))"
   ]
  },
  {
   "cell_type": "code",
   "execution_count": null,
   "metadata": {},
   "outputs": [
    {
     "name": "stdout",
     "output_type": "stream",
     "text": [
      "True\n",
      "True\n"
     ]
    }
   ],
   "source": [
    "full_name = \"Muhammad Ibrahim\"\n",
    "print(\"Ibrahim\" in full_name) # check if substring is in string\n",
    "print(\"ibrahim\" not in full_name) # reverse of in operator"
   ]
  },
  {
   "cell_type": "code",
   "execution_count": 26,
   "metadata": {},
   "outputs": [
    {
     "name": "stdout",
     "output_type": "stream",
     "text": [
      "Muhammad ibrahim\n",
      "muhammad ibrahim\n",
      "-------muhammad ibrahim-------\n"
     ]
    }
   ],
   "source": [
    "# capitalize, casefold, center\n",
    "name = \"muhammad ibrahim\"\n",
    "print(name.capitalize())\n",
    "print(name.casefold())\n",
    "print(name.center(30,'-'))"
   ]
  },
  {
   "cell_type": "code",
   "execution_count": null,
   "metadata": {},
   "outputs": [
    {
     "name": "stdout",
     "output_type": "stream",
     "text": [
      "2\n",
      "b'muhammad ibrahim'\n",
      "True\n",
      "True\n",
      "9\n",
      "0\n"
     ]
    }
   ],
   "source": [
    "print(name.count('i',0,len(name)))\n",
    "print(name.encode(encoding='utf-8', errors='strict'))\n",
    "print(name.endswith('m')) # check if string ends with a substring\n",
    "print(name.startswith('m')) # check if string starts with a substring\n",
    "print(name.find('ibrahim'))\n",
    "print(name.find('muhammad'))\n"
   ]
  }
 ],
 "metadata": {
  "kernelspec": {
   "display_name": "Python 3",
   "language": "python",
   "name": "python3"
  },
  "language_info": {
   "codemirror_mode": {
    "name": "ipython",
    "version": 3
   },
   "file_extension": ".py",
   "mimetype": "text/x-python",
   "name": "python",
   "nbconvert_exporter": "python",
   "pygments_lexer": "ipython3",
   "version": "3.12.6"
  }
 },
 "nbformat": 4,
 "nbformat_minor": 2
}
