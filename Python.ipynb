{
 "cells": [
  {
   "cell_type": "code",
   "execution_count": 1,
   "metadata": {},
   "outputs": [],
   "source": [
    "import numpy as np\n",
    "import pandas as pd\n",
    "import scipy\n",
    "from scipy import linalg\n",
    "from sklearn.datasets import load_breast_cancer\n",
    "import torch\n",
    "import tensorflow as tf\n",
    "import keras\n",
    "import seaborn as sns\n",
    "#from datasets import load_dataset # huggingface datasets"
   ]
  },
  {
   "cell_type": "code",
   "execution_count": 6,
   "metadata": {},
   "outputs": [
    {
     "name": "stdout",
     "output_type": "stream",
     "text": [
      "['malignant', 'benign']\n"
     ]
    }
   ],
   "source": [
    "data = load_breast_cancer()\n",
    "print(list(data.target_names))"
   ]
  },
  {
   "cell_type": "code",
   "execution_count": 20,
   "metadata": {},
   "outputs": [
    {
     "name": "stdout",
     "output_type": "stream",
     "text": [
      "Ibrahim\n",
      " Muhammad Ibrahim \n",
      "18\n",
      " MUHAMMAD IBRAHIM \n",
      " muhammad ibrahim \n",
      "Muhammad Ibrahim\n"
     ]
    }
   ],
   "source": [
    "name = 'ibrahim'\n",
    "name = 'I' + name[1:]\n",
    "print(name)\n",
    "name = name.replace(name, \" Muhammad Ibrahim \")\n",
    "print(name)\n",
    "print(len(name))\n",
    "print(name.upper())\n",
    "print(name.lower())\n",
    "print(name.strip())"
   ]
  },
  {
   "cell_type": "code",
   "execution_count": null,
   "metadata": {},
   "outputs": [
    {
     "name": "stdout",
     "output_type": "stream",
     "text": [
      "Muhammad Ibrahim \n",
      "Muhammad Ibrahim Muhammad Ibrahim Muhammad Ibrahim \n"
     ]
    }
   ],
   "source": [
    "# concatenation and repetition\n",
    "first_name = \"Muhammad\"\n",
    "last_name = \"Ibrahim \"\n",
    "full_name = first_name + \" \" + last_name\n",
    "print(full_name)\n",
    "print(full_name * 3)"
   ]
  },
  {
   "cell_type": "code",
   "execution_count": null,
   "metadata": {},
   "outputs": [
    {
     "name": "stdout",
     "output_type": "stream",
     "text": [
      "My name is ibrahim. I am 26 years old. \n"
     ]
    }
   ],
   "source": [
    "# f-string\n",
    "name = \"ibrahim\"\n",
    "age = 26\n",
    "print(f\"My name is {name}. I am {age} years old. \")"
   ]
  },
  {
   "cell_type": "code",
   "execution_count": null,
   "metadata": {},
   "outputs": [
    {
     "name": "stdout",
     "output_type": "stream",
     "text": [
      "My name is ibrahim. I am 26 years old.\n",
      "My name is 26. I am ibrahim years old.\n"
     ]
    }
   ],
   "source": [
    "# format method\n",
    "print(\"My name is {0}. I am {1} years old.\".format(\"ibrahim\", 26))\n",
    "print(\"My name is {1}. I am {0} years old.\".format(\"ibrahim\", 26))"
   ]
  },
  {
   "cell_type": "code",
   "execution_count": null,
   "metadata": {},
   "outputs": [
    {
     "name": "stdout",
     "output_type": "stream",
     "text": [
      "True\n",
      "True\n"
     ]
    }
   ],
   "source": [
    "full_name = \"Muhammad Ibrahim\"\n",
    "print(\"Ibrahim\" in full_name) # check if substring is in string\n",
    "print(\"ibrahim\" not in full_name) # reverse of in operator"
   ]
  },
  {
   "cell_type": "code",
   "execution_count": 58,
   "metadata": {},
   "outputs": [
    {
     "name": "stdout",
     "output_type": "stream",
     "text": [
      "Muhammad ibrahim\n",
      "muhammad ibrahim\n",
      "-------muhammad ibrahim-------\n"
     ]
    }
   ],
   "source": [
    "# capitalize, casefold, center\n",
    "name = \"muhammad ibrahim\"\n",
    "print(name.capitalize())\n",
    "print(name.casefold())\n",
    "print(name.center(30,'-'))"
   ]
  },
  {
   "cell_type": "code",
   "execution_count": 59,
   "metadata": {},
   "outputs": [
    {
     "name": "stdout",
     "output_type": "stream",
     "text": [
      "2\n",
      "b'muhammad ibrahim'\n",
      "True\n",
      "True\n",
      "9\n",
      "0\n"
     ]
    }
   ],
   "source": [
    "# count, encode, endswith, startswith, find\n",
    "print(name.count('i',0,len(name)))\n",
    "print(name.encode(encoding='utf-8', errors='strict'))\n",
    "print(name.endswith('m')) # check if string ends with a substring\n",
    "print(name.startswith('m')) # check if string starts with a substring\n",
    "print(name.find('ibrahim'))\n",
    "print(name.find('muhammad'))\n"
   ]
  },
  {
   "cell_type": "code",
   "execution_count": null,
   "metadata": {},
   "outputs": [
    {
     "name": "stdout",
     "output_type": "stream",
     "text": [
      "True\n",
      "False\n",
      "False\n"
     ]
    }
   ],
   "source": [
    "name = '2ibrahim'\n",
    "print(name.isalnum()) # check if all characters are alphanumeric\n",
    "print(name.isalpha()) # check if all characters are alphabetic\n",
    "print(name.isidentifier()) # check if string is a valid identifier"
   ]
  },
  {
   "cell_type": "code",
   "execution_count": 83,
   "metadata": {},
   "outputs": [
    {
     "name": "stdout",
     "output_type": "stream",
     "text": [
      "['My', 'name', 'is', 'Muhammad', 'Ibrahim']\n",
      "My name is Muhammad Ibrahim\n",
      "['My', 'name', 'is', 'Muhammad', 'Ibrahim']\n",
      "before:  jy name ws cuhammad xibrahim\n",
      "after:  My name is Muhammad ibrahim\n"
     ]
    }
   ],
   "source": [
    "list1 = ['My', 'name', 'is', 'Muhammad', 'Ibrahim']\n",
    "print(list1)\n",
    "print(' '.join(list1)) # join list elements with a separator\n",
    "print(list1)\n",
    "trg = 'jy name ws cuhammad xibrahim'\n",
    "str1 = 'jwc'\n",
    "str2 = 'MiM'\n",
    "str3 = 'x'\n",
    "table = trg.maketrans(str1, str2, str3) # create a translation table\n",
    "print(\"before: \", trg)\n",
    "print(\"after: \", trg.translate(table))\n"
   ]
  },
  {
   "cell_type": "code",
   "execution_count": 31,
   "metadata": {},
   "outputs": [
    {
     "name": "stdout",
     "output_type": "stream",
     "text": [
      "{'color': ['red', 'green', 'blue', 'yellow', 'black']}\n"
     ]
    }
   ],
   "source": [
    "data = {'color' : ['red', 'green', 'blue', 'yellow', 'black'],} # create a dictionary\n",
    "print(data)"
   ]
  },
  {
   "cell_type": "code",
   "execution_count": 32,
   "metadata": {},
   "outputs": [
    {
     "name": "stdout",
     "output_type": "stream",
     "text": [
      "    color\n",
      "0     red\n",
      "1   green\n",
      "2    blue\n",
      "3  yellow\n",
      "4   black\n"
     ]
    }
   ],
   "source": [
    "df = pd.DataFrame(data) # create a dataframe\n",
    "print(df)"
   ]
  },
  {
   "cell_type": "code",
   "execution_count": 33,
   "metadata": {},
   "outputs": [
    {
     "name": "stdout",
     "output_type": "stream",
     "text": [
      "   color_black  color_blue  color_green  color_red  color_yellow\n",
      "0        False       False        False       True         False\n",
      "1        False       False         True      False         False\n",
      "2        False        True        False      False         False\n",
      "3        False       False        False      False          True\n",
      "4         True       False        False      False         False\n"
     ]
    }
   ],
   "source": [
    "one_hot_encoded = pd.get_dummies(df['color'], prefix='color') # one hot encode the color column\n",
    "df = pd.concat([df, one_hot_encoded], axis=1) # concatenate the one hot encoded column to the dataframe\n",
    "\n",
    "df = df.drop('color', axis=1) # drop the original color column\n",
    "print(df)"
   ]
  },
  {
   "cell_type": "code",
   "execution_count": 34,
   "metadata": {},
   "outputs": [
    {
     "name": "stdout",
     "output_type": "stream",
     "text": [
      "[[-1.34164079 -1.34164079]\n",
      " [-0.4472136  -0.4472136 ]\n",
      " [ 0.4472136   0.4472136 ]\n",
      " [ 1.34164079  1.34164079]]\n"
     ]
    }
   ],
   "source": [
    "from sklearn.preprocessing import StandardScaler\n",
    "import numpy as np\n",
    "\n",
    "# Sample data\n",
    "data = np.array([[1, 2], [3, 4], [5, 6], [7, 8]])\n",
    "\n",
    "# Initialize the scaler\n",
    "scaler = StandardScaler()\n",
    "\n",
    "# Fit the scaler to the data and transform the data\n",
    "scaled_data = scaler.fit_transform(data)\n",
    "\n",
    "print(scaled_data)\n"
   ]
  },
  {
   "cell_type": "code",
   "execution_count": 36,
   "metadata": {},
   "outputs": [
    {
     "name": "stdout",
     "output_type": "stream",
     "text": [
      "[0 2 1 0 1 0 1]\n"
     ]
    }
   ],
   "source": [
    "from sklearn.preprocessing import LabelEncoder\n",
    "\n",
    "label_encoder = LabelEncoder() # initialize the label encoder\n",
    "data = ['apple', 'orange', 'banana', 'apple', 'banana', 'apple', 'banana'] # sample data\n",
    "\n",
    "encode_data = label_encoder.fit_transform(data) # fit and transform the data\n",
    "print(encode_data)\n"
   ]
  }
 ],
 "metadata": {
  "kernelspec": {
   "display_name": "Python 3",
   "language": "python",
   "name": "python3"
  },
  "language_info": {
   "codemirror_mode": {
    "name": "ipython",
    "version": 3
   },
   "file_extension": ".py",
   "mimetype": "text/x-python",
   "name": "python",
   "nbconvert_exporter": "python",
   "pygments_lexer": "ipython3",
   "version": "3.12.6"
  }
 },
 "nbformat": 4,
 "nbformat_minor": 2
}
