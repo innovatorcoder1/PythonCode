{
 "cells": [
  {
   "cell_type": "code",
   "execution_count": 1,
   "metadata": {},
   "outputs": [],
   "source": [
    "import numpy as np\n",
    "import pandas as pd\n",
    "import scipy\n",
    "from scipy import linalg\n",
    "from sklearn.datasets import load_breast_cancer\n",
    "import torch\n",
    "import tensorflow as tf\n",
    "import keras\n",
    "import seaborn as sns\n",
    "#from datasets import load_dataset # huggingface datasets"
   ]
  },
  {
   "cell_type": "code",
   "execution_count": 6,
   "metadata": {},
   "outputs": [
    {
     "name": "stdout",
     "output_type": "stream",
     "text": [
      "['malignant', 'benign']\n"
     ]
    }
   ],
   "source": [
    "data = load_breast_cancer()\n",
    "print(list(data.target_names))"
   ]
  },
  {
   "cell_type": "code",
   "execution_count": 20,
   "metadata": {},
   "outputs": [
    {
     "name": "stdout",
     "output_type": "stream",
     "text": [
      "Ibrahim\n",
      " Muhammad Ibrahim \n",
      "18\n",
      " MUHAMMAD IBRAHIM \n",
      " muhammad ibrahim \n",
      "Muhammad Ibrahim\n"
     ]
    }
   ],
   "source": [
    "name = 'ibrahim'\n",
    "name = 'I' + name[1:]\n",
    "print(name)\n",
    "name = name.replace(name, \" Muhammad Ibrahim \")\n",
    "print(name)\n",
    "print(len(name))\n",
    "print(name.upper())\n",
    "print(name.lower())\n",
    "print(name.strip())"
   ]
  },
  {
   "cell_type": "code",
   "execution_count": null,
   "metadata": {},
   "outputs": [
    {
     "name": "stdout",
     "output_type": "stream",
     "text": [
      "Muhammad Ibrahim \n",
      "Muhammad Ibrahim Muhammad Ibrahim Muhammad Ibrahim \n"
     ]
    }
   ],
   "source": [
    "# concatenation and repetition\n",
    "first_name = \"Muhammad\"\n",
    "last_name = \"Ibrahim \"\n",
    "full_name = first_name + \" \" + last_name\n",
    "print(full_name)\n",
    "print(full_name * 3)"
   ]
  },
  {
   "cell_type": "code",
   "execution_count": null,
   "metadata": {},
   "outputs": [
    {
     "name": "stdout",
     "output_type": "stream",
     "text": [
      "My name is ibrahim. I am 26 years old. \n"
     ]
    }
   ],
   "source": [
    "# f-string\n",
    "name = \"ibrahim\"\n",
    "age = 26\n",
    "print(f\"My name is {name}. I am {age} years old. \")"
   ]
  },
  {
   "cell_type": "code",
   "execution_count": null,
   "metadata": {},
   "outputs": [
    {
     "name": "stdout",
     "output_type": "stream",
     "text": [
      "My name is ibrahim. I am 26 years old.\n",
      "My name is 26. I am ibrahim years old.\n"
     ]
    }
   ],
   "source": [
    "# format method\n",
    "print(\"My name is {0}. I am {1} years old.\".format(\"ibrahim\", 26))\n",
    "print(\"My name is {1}. I am {0} years old.\".format(\"ibrahim\", 26))"
   ]
  },
  {
   "cell_type": "code",
   "execution_count": null,
   "metadata": {},
   "outputs": [
    {
     "name": "stdout",
     "output_type": "stream",
     "text": [
      "True\n",
      "True\n"
     ]
    }
   ],
   "source": [
    "full_name = \"Muhammad Ibrahim\"\n",
    "print(\"Ibrahim\" in full_name) # check if substring is in string\n",
    "print(\"ibrahim\" not in full_name) # reverse of in operator"
   ]
  },
  {
   "cell_type": "code",
   "execution_count": 58,
   "metadata": {},
   "outputs": [
    {
     "name": "stdout",
     "output_type": "stream",
     "text": [
      "Muhammad ibrahim\n",
      "muhammad ibrahim\n",
      "-------muhammad ibrahim-------\n"
     ]
    }
   ],
   "source": [
    "# capitalize, casefold, center\n",
    "name = \"muhammad ibrahim\"\n",
    "print(name.capitalize())\n",
    "print(name.casefold())\n",
    "print(name.center(30,'-'))"
   ]
  },
  {
   "cell_type": "code",
   "execution_count": 59,
   "metadata": {},
   "outputs": [
    {
     "name": "stdout",
     "output_type": "stream",
     "text": [
      "2\n",
      "b'muhammad ibrahim'\n",
      "True\n",
      "True\n",
      "9\n",
      "0\n"
     ]
    }
   ],
   "source": [
    "# count, encode, endswith, startswith, find\n",
    "print(name.count('i',0,len(name)))\n",
    "print(name.encode(encoding='utf-8', errors='strict'))\n",
    "print(name.endswith('m')) # check if string ends with a substring\n",
    "print(name.startswith('m')) # check if string starts with a substring\n",
    "print(name.find('ibrahim'))\n",
    "print(name.find('muhammad'))\n"
   ]
  },
  {
   "cell_type": "code",
   "execution_count": null,
   "metadata": {},
   "outputs": [
    {
     "name": "stdout",
     "output_type": "stream",
     "text": [
      "True\n",
      "False\n",
      "False\n"
     ]
    }
   ],
   "source": [
    "name = '2ibrahim'\n",
    "print(name.isalnum()) # check if all characters are alphanumeric\n",
    "print(name.isalpha()) # check if all characters are alphabetic\n",
    "print(name.isidentifier()) # check if string is a valid identifier"
   ]
  },
  {
   "cell_type": "code",
   "execution_count": 83,
   "metadata": {},
   "outputs": [
    {
     "name": "stdout",
     "output_type": "stream",
     "text": [
      "['My', 'name', 'is', 'Muhammad', 'Ibrahim']\n",
      "My name is Muhammad Ibrahim\n",
      "['My', 'name', 'is', 'Muhammad', 'Ibrahim']\n",
      "before:  jy name ws cuhammad xibrahim\n",
      "after:  My name is Muhammad ibrahim\n"
     ]
    }
   ],
   "source": [
    "list1 = ['My', 'name', 'is', 'Muhammad', 'Ibrahim']\n",
    "print(list1)\n",
    "print(' '.join(list1)) # join list elements with a separator\n",
    "print(list1)\n",
    "trg = 'jy name ws cuhammad xibrahim'\n",
    "str1 = 'jwc'\n",
    "str2 = 'MiM'\n",
    "str3 = 'x'\n",
    "table = trg.maketrans(str1, str2, str3) # create a translation table\n",
    "print(\"before: \", trg)\n",
    "print(\"after: \", trg.translate(table))\n"
   ]
  },
  {
   "cell_type": "code",
   "execution_count": 31,
   "metadata": {},
   "outputs": [
    {
     "name": "stdout",
     "output_type": "stream",
     "text": [
      "{'color': ['red', 'green', 'blue', 'yellow', 'black']}\n"
     ]
    }
   ],
   "source": [
    "data = {'color' : ['red', 'green', 'blue', 'yellow', 'black'],} # create a dictionary\n",
    "print(data)"
   ]
  },
  {
   "cell_type": "code",
   "execution_count": 32,
   "metadata": {},
   "outputs": [
    {
     "name": "stdout",
     "output_type": "stream",
     "text": [
      "    color\n",
      "0     red\n",
      "1   green\n",
      "2    blue\n",
      "3  yellow\n",
      "4   black\n"
     ]
    }
   ],
   "source": [
    "df = pd.DataFrame(data) # create a dataframe\n",
    "print(df)"
   ]
  },
  {
   "cell_type": "code",
   "execution_count": null,
   "metadata": {},
   "outputs": [
    {
     "name": "stdout",
     "output_type": "stream",
     "text": [
      "   color_black  color_blue  color_green  color_red  color_yellow\n",
      "0        False       False        False       True         False\n",
      "1        False       False         True      False         False\n",
      "2        False        True        False      False         False\n",
      "3        False       False        False      False          True\n",
      "4         True       False        False      False         False\n"
     ]
    }
   ],
   "source": [
    "# one hot encoding\n",
    "one_hot_encoded = pd.get_dummies(df['color'], prefix='color') # one hot encode the color column\n",
    "df = pd.concat([df, one_hot_encoded], axis=1) # concatenate the one hot encoded column to the dataframe\n",
    "\n",
    "df = df.drop('color', axis=1) # drop the original color column\n",
    "print(df)"
   ]
  },
  {
   "cell_type": "code",
   "execution_count": 34,
   "metadata": {},
   "outputs": [
    {
     "name": "stdout",
     "output_type": "stream",
     "text": [
      "[[-1.34164079 -1.34164079]\n",
      " [-0.4472136  -0.4472136 ]\n",
      " [ 0.4472136   0.4472136 ]\n",
      " [ 1.34164079  1.34164079]]\n"
     ]
    }
   ],
   "source": [
    "from sklearn.preprocessing import StandardScaler\n",
    "import numpy as np\n",
    "\n",
    "# Sample data\n",
    "data = np.array([[1, 2], [3, 4], [5, 6], [7, 8]])\n",
    "\n",
    "# Initialize the scaler\n",
    "scaler = StandardScaler()\n",
    "\n",
    "# Fit the scaler to the data and transform the data\n",
    "scaled_data = scaler.fit_transform(data)\n",
    "\n",
    "print(scaled_data)\n"
   ]
  },
  {
   "cell_type": "code",
   "execution_count": 37,
   "metadata": {},
   "outputs": [
    {
     "name": "stdout",
     "output_type": "stream",
     "text": [
      "[0 2 1 0 1 0 1]\n"
     ]
    }
   ],
   "source": [
    "# label encoding\n",
    "from sklearn.preprocessing import LabelEncoder\n",
    "\n",
    "label_encoder = LabelEncoder() # initialize the label encoder\n",
    "data = ['apple', 'orange', 'banana', 'apple', 'banana', 'apple', 'banana'] # sample data\n",
    "\n",
    "encode_data = label_encoder.fit_transform(data) # fit and transform the data\n",
    "print(encode_data)\n"
   ]
  },
  {
   "cell_type": "code",
   "execution_count": null,
   "metadata": {},
   "outputs": [
    {
     "name": "stdout",
     "output_type": "stream",
     "text": [
      "   color_freq\n",
      "0    0.333333\n",
      "1    0.333333\n",
      "2    0.166667\n",
      "3    0.333333\n",
      "4    0.333333\n",
      "5    0.166667\n"
     ]
    }
   ],
   "source": [
    "# frequency encoding\n",
    "data = {'color': ['red', 'green', 'blue', 'red', 'green', 'yellow']}\n",
    "df = pd.DataFrame(data)\n",
    "\n",
    "freq = df['color'].value_counts(normalize=True) # get the frequency of each unique value\n",
    "df['color_freq'] = df['color'].map(freq) # map the frequency to the color column\n",
    "df = df.drop('color', axis=1) # drop the original color column\n",
    "print(df)"
   ]
  },
  {
   "cell_type": "code",
   "execution_count": 5,
   "metadata": {},
   "outputs": [
    {
     "name": "stdout",
     "output_type": "stream",
     "text": [
      "0.6165662715182203\n",
      "[0.73193626 0.48830358 0.57083733 0.37943447 0.72678077]\n",
      "[[0.24914533 0.18692777 0.81044454]\n",
      " [0.97845961 0.67545805 0.68555535]\n",
      " [0.8510506  0.01448724 0.18339685]]\n"
     ]
    }
   ],
   "source": [
    "one_rand_num = np.random.rand()\n",
    "print(one_rand_num)\n",
    "# generate 5 random numbers\n",
    "rand_num = np.random.rand(5)\n",
    "print(rand_num)\n",
    "rand_num_2d = np.random.rand(3, 3)\n",
    "print(rand_num_2d)"
   ]
  },
  {
   "cell_type": "code",
   "execution_count": 11,
   "metadata": {},
   "outputs": [
    {
     "name": "stdout",
     "output_type": "stream",
     "text": [
      "[ 1  2  3  4  5  6  7  8  9 10]\n"
     ]
    }
   ],
   "source": [
    "import numpy as np\n",
    "arr1 = np.array([1, 2, 3, 4, 5])\n",
    "arr2 = np.array([6, 7, 8, 9, 10])\n",
    "print(np.concatenate((arr1, arr2), axis=0)) # concatenate two arrays"
   ]
  },
  {
   "cell_type": "code",
   "execution_count": 15,
   "metadata": {},
   "outputs": [
    {
     "name": "stdout",
     "output_type": "stream",
     "text": [
      "Original array:\n",
      "[0 1 2 3 4 5 6 7 8]\n",
      "Split the array into three equal-sized sub-arrays:\n",
      "Sub-array 1:\n",
      "[0 1 2]\n",
      "Sub-array 2:\n",
      "[3 4 5]\n",
      "Sub-array 3:\n",
      "[6 7 8]\n"
     ]
    }
   ],
   "source": [
    "arr = np.arange(9)\n",
    "print(\"Original array:\")\n",
    "print(arr)\n",
    "\n",
    "result = np.split(arr, 3)\n",
    "print(\"Split the array into three equal-sized sub-arrays:\")\n",
    "for i, sub_array in enumerate(result):\n",
    "    print(f\"Sub-array {i+1}:\")\n",
    "    print(sub_array)"
   ]
  },
  {
   "cell_type": "code",
   "execution_count": 18,
   "metadata": {},
   "outputs": [
    {
     "name": "stdout",
     "output_type": "stream",
     "text": [
      "Original array:\n",
      "[0 1 2 3 4 5 6 7 8]\n",
      "Reshaped array:\n",
      "[[0 1 2]\n",
      " [3 4 5]\n",
      " [6 7 8]\n",
      " [0 1 2]]\n"
     ]
    }
   ],
   "source": [
    "arr = np.arange(9)\n",
    "print(\"Original array:\")\n",
    "print(arr)\n",
    "\n",
    "new_arr = np.resize(arr, (4, 3))\n",
    "print(\"Reshaped array:\")\n",
    "print(new_arr)"
   ]
  },
  {
   "cell_type": "code",
   "execution_count": null,
   "metadata": {},
   "outputs": [
    {
     "name": "stdout",
     "output_type": "stream",
     "text": [
      "[[1 2]\n",
      " [3 4]]\n",
      "\n",
      "[[1 2 5 6]\n",
      " [3 4 7 8]]\n"
     ]
    }
   ],
   "source": [
    "# append a row to the array\n",
    "a = np.array([[1, 2], [3, 4]])\n",
    "print(a)\n",
    "print()\n",
    "print(np.append(a, [[5, 6],[7,8]], axis=1)) # append a row to the array\n"
   ]
  },
  {
   "cell_type": "code",
   "execution_count": 1,
   "metadata": {},
   "outputs": [
    {
     "name": "stdout",
     "output_type": "stream",
     "text": [
      "Intercept: 0.6000000000000001\n",
      "Slope: 0.7999999999999999\n"
     ]
    }
   ],
   "source": [
    "from sklearn.linear_model import LinearRegression\n",
    "import numpy as np\n",
    "\n",
    "# Sample data\n",
    "X = np.array([[1], [2], [3], [4], [5]])\n",
    "Y = np.array([1, 3, 2, 5, 4])\n",
    "\n",
    "# Create and train the model\n",
    "model = LinearRegression()\n",
    "model.fit(X, Y)\n",
    "\n",
    "# Make predictions\n",
    "predictions = model.predict(X)\n",
    "\n",
    "# Output the regression coefficients\n",
    "print(f\"Intercept: {model.intercept_}\")\n",
    "print(f\"Slope: {model.coef_[0]}\")\n"
   ]
  },
  {
   "cell_type": "code",
   "execution_count": 2,
   "metadata": {},
   "outputs": [
    {
     "data": {
      "image/png": "[encoded data removed]",
      "text/plain": [
       "<Figure size 640x480 with 1 Axes>"
      ]
     },
     "metadata": {},
     "output_type": "display_data"
    }
   ],
   "source": [
    "import matplotlib.pyplot as plt\n",
    "\n",
    "# Plot the original data points\n",
    "plt.scatter(X, Y, color='blue', label='Original data')\n",
    "\n",
    "# Plot the regression line\n",
    "plt.plot(X, predictions, color='red', label='Regression line')\n",
    "\n",
    "# Add labels and title\n",
    "plt.xlabel('X')\n",
    "plt.ylabel('Y')\n",
    "plt.title('Linear Regression')\n",
    "plt.legend()\n",
    "\n",
    "# Show the plot\n",
    "plt.show()"
   ]
  },
  {
   "cell_type": "code",
   "execution_count": 4,
   "metadata": {},
   "outputs": [
    {
     "name": "stdout",
     "output_type": "stream",
     "text": [
      "Feature names: ['sepal length (cm)', 'sepal width (cm)', 'petal length (cm)', 'petal width (cm)']\n",
      "Target names: ['setosa' 'versicolor' 'virginica']\n",
      "First 5 rows of the dataset:\n",
      "[[5.1 3.5 1.4 0.2]\n",
      " [4.9 3.  1.4 0.2]\n",
      " [4.7 3.2 1.3 0.2]\n",
      " [4.6 3.1 1.5 0.2]\n",
      " [5.  3.6 1.4 0.2]]\n",
      "Target values for the first 5 rows:\n",
      "[0 0 0 0 0]\n"
     ]
    }
   ],
   "source": [
    "from sklearn.datasets import load_iris\n",
    "\n",
    "# Load the Iris dataset\n",
    "iris = load_iris()\n",
    "\n",
    "# Display the feature names and target names\n",
    "print(\"Feature names:\", iris.feature_names)\n",
    "print(\"Target names:\", iris.target_names)\n",
    "\n",
    "# Display the first 5 rows of the dataset\n",
    "print(\"First 5 rows of the dataset:\")\n",
    "print(iris.data[:5])\n",
    "print(\"Target values for the first 5 rows:\")\n",
    "print(iris.target[:5])"
   ]
  },
  {
   "cell_type": "code",
   "execution_count": 9,
   "metadata": {},
   "outputs": [
    {
     "name": "stdout",
     "output_type": "stream",
     "text": [
      "Mean Squared Error: 0.03711379440797686\n",
      "Intercept: 0.25252758981814727\n",
      "Coefficients: [-0.11633479 -0.05977785  0.25491375  0.54759598]\n"
     ]
    }
   ],
   "source": [
    "from sklearn.linear_model import LinearRegression\n",
    "from sklearn.model_selection import train_test_split\n",
    "from sklearn.metrics import mean_squared_error\n",
    "\n",
    "# Load the Iris dataset\n",
    "X = iris.data\n",
    "y = iris.target\n",
    "\n",
    "# Split the dataset into training and testing sets\n",
    "X_train, X_test, y_train, y_test = train_test_split(X, y, test_size=0.2, random_state=42)\n",
    "\n",
    "# Create and train the model\n",
    "ols_model = LinearRegression()\n",
    "ols_model.fit(X_train, y_train)\n",
    "\n",
    "# Make predictions\n",
    "y_pred = ols_model.predict(X_test)\n",
    "\n",
    "# Calculate the mean squared error\n",
    "mse = mean_squared_error(y_test, y_pred)\n",
    "print(f\"Mean Squared Error: {mse}\")\n",
    "\n",
    "# Output the regression coefficients\n",
    "print(f\"Intercept: {ols_model.intercept_}\")\n",
    "print(f\"Coefficients: {ols_model.coef_}\")"
   ]
  },
  {
   "cell_type": "code",
   "execution_count": 2,
   "metadata": {},
   "outputs": [
    {
     "name": "stdout",
     "output_type": "stream",
     "text": [
      "can't divide by zero!\n"
     ]
    }
   ],
   "source": [
    "n = 10\n",
    "try:\n",
    "    result = n / 0\n",
    "except ZeroDivisionError:\n",
    "    print(\"can't divide by zero!\")"
   ]
  },
  {
   "cell_type": "code",
   "execution_count": 3,
   "metadata": {},
   "outputs": [
    {
     "name": "stdout",
     "output_type": "stream",
     "text": [
      "can't divide by zero!\n",
      "Execution complete.\n"
     ]
    }
   ],
   "source": [
    "try:\n",
    "    n = 0\n",
    "    result = 100 / n\n",
    "except ZeroDivisionError:\n",
    "    print(\"can't divide by zero!\")\n",
    "except ValueError:\n",
    "    print(\"Enter a valid number!\")\n",
    "else:\n",
    "    print(\"Result: \", result)\n",
    "finally:\n",
    "    print(\"Execution complete.\")"
   ]
  },
  {
   "cell_type": "code",
   "execution_count": 7,
   "metadata": {},
   "outputs": [
    {
     "name": "stdout",
     "output_type": "stream",
     "text": [
      "Your age is 5 year old.\n"
     ]
    }
   ],
   "source": [
    "def set(age):\n",
    "    if age < 0:\n",
    "        raise ValueError(\"Age cannot be negative.\")\n",
    "    print(f\"Your age is {age} year old.\")\n",
    "try:\n",
    "    set(5)\n",
    "except ValueError as e:\n",
    "    print(e)"
   ]
  },
  {
   "cell_type": "code",
   "execution_count": 9,
   "metadata": {},
   "outputs": [
    {
     "name": "stdout",
     "output_type": "stream",
     "text": [
      "Age cannot be negative.\n"
     ]
    }
   ],
   "source": [
    "def set(age):\n",
    "    if age < 0:\n",
    "        print(\"Age cannot be negative.\")\n",
    "    else:\n",
    "        print(f\"You are {age} years old.\")\n",
    "age = int(input(\"How many years old (Enter your age.)?  \"))\n",
    "set(age)"
   ]
  },
  {
   "cell_type": "code",
   "execution_count": 13,
   "metadata": {},
   "outputs": [
    {
     "name": "stdout",
     "output_type": "stream",
     "text": [
      "100.0\n"
     ]
    }
   ],
   "source": [
    "try:\n",
    "    n = 1\n",
    "    result = 100 / n\n",
    "    print(result)\n",
    "except Exception as e:\n",
    "    print(\"The error is: \",e)\n"
   ]
  },
  {
   "cell_type": "code",
   "execution_count": 19,
   "metadata": {},
   "outputs": [
    {
     "name": "stdout",
     "output_type": "stream",
     "text": [
      "ArithmeticError\n",
      "AssertionError\n",
      "AttributeError\n",
      "BaseException\n",
      "BaseExceptionGroup\n",
      "BlockingIOError\n",
      "BrokenPipeError\n",
      "BufferError\n",
      "BytesWarning\n",
      "ChildProcessError\n",
      "ConnectionAbortedError\n",
      "ConnectionError\n",
      "ConnectionRefusedError\n",
      "ConnectionResetError\n",
      "DeprecationWarning\n",
      "EOFError\n",
      "EncodingWarning\n",
      "EnvironmentError\n",
      "Exception\n",
      "ExceptionGroup\n",
      "FileExistsError\n",
      "FileNotFoundError\n",
      "FloatingPointError\n",
      "FutureWarning\n",
      "GeneratorExit\n",
      "IOError\n",
      "ImportError\n",
      "ImportWarning\n",
      "IndentationError\n",
      "IndexError\n",
      "InterruptedError\n",
      "IsADirectoryError\n",
      "KeyError\n",
      "KeyboardInterrupt\n",
      "LookupError\n",
      "MemoryError\n",
      "ModuleNotFoundError\n",
      "NameError\n",
      "NotADirectoryError\n",
      "NotImplementedError\n",
      "OSError\n",
      "OverflowError\n",
      "PendingDeprecationWarning\n",
      "PermissionError\n",
      "ProcessLookupError\n",
      "RecursionError\n",
      "ReferenceError\n",
      "ResourceWarning\n",
      "RuntimeError\n",
      "RuntimeWarning\n",
      "StopAsyncIteration\n",
      "StopIteration\n",
      "SyntaxError\n",
      "SyntaxWarning\n",
      "SystemError\n",
      "SystemExit\n",
      "TabError\n",
      "TimeoutError\n",
      "TypeError\n",
      "UnboundLocalError\n",
      "UnicodeDecodeError\n",
      "UnicodeEncodeError\n",
      "UnicodeError\n",
      "UnicodeTranslateError\n",
      "UnicodeWarning\n",
      "UserWarning\n",
      "ValueError\n",
      "Warning\n",
      "WindowsError\n",
      "ZeroDivisionError\n"
     ]
    }
   ],
   "source": [
    "import builtins\n",
    "\n",
    "# List all built-in exceptions\n",
    "built_in_exceptions = [name for name in dir(builtins) if isinstance(getattr(builtins, name), type) and issubclass(getattr(builtins, name), BaseException)]\n",
    "\n",
    "# Print the list of built-in exceptions\n",
    "for exception in built_in_exceptions:\n",
    "    print(exception)\n"
   ]
  }
 ],
 "metadata": {
  "kernelspec": {
   "display_name": "Python 3",
   "language": "python",
   "name": "python3"
  },
  "language_info": {
   "codemirror_mode": {
    "name": "ipython",
    "version": 3
   },
   "file_extension": ".py",
   "mimetype": "text/x-python",
   "name": "python",
   "nbconvert_exporter": "python",
   "pygments_lexer": "ipython3",
   "version": "3.12.6"
  }
 },
 "nbformat": 4,
 "nbformat_minor": 2
}
