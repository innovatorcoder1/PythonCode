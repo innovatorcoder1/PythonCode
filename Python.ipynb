{
 "cells": [
  {
   "cell_type": "code",
   "execution_count": 20,
   "metadata": {},
   "outputs": [
    {
     "name": "stdout",
     "output_type": "stream",
     "text": [
      "Ibrahim\n",
      " Muhammad Ibrahim \n",
      "18\n",
      " MUHAMMAD IBRAHIM \n",
      " muhammad ibrahim \n",
      "Muhammad Ibrahim\n"
     ]
    }
   ],
   "source": [
    "name = 'ibrahim'\n",
    "name = 'I' + name[1:]\n",
    "print(name)\n",
    "name = name.replace(name, \" Muhammad Ibrahim \")\n",
    "print(name)\n",
    "print(len(name))\n",
    "print(name.upper())\n",
    "print(name.lower())\n",
    "print(name.strip())"
   ]
  }
 ],
 "metadata": {
  "kernelspec": {
   "display_name": "Python 3",
   "language": "python",
   "name": "python3"
  },
  "language_info": {
   "codemirror_mode": {
    "name": "ipython",
    "version": 3
   },
   "file_extension": ".py",
   "mimetype": "text/x-python",
   "name": "python",
   "nbconvert_exporter": "python",
   "pygments_lexer": "ipython3",
   "version": "3.12.6"
  }
 },
 "nbformat": 4,
 "nbformat_minor": 2
}
